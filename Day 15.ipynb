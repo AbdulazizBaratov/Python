{
 "cells": [
  {
   "cell_type": "code",
   "execution_count": 3,
   "metadata": {},
   "outputs": [],
   "source": [
    "water = 10000\n",
    "coffee = 1000\n",
    "milk = 1000\n",
    "sugar = 1000\n",
    "espresso = 1000"
   ]
  },
  {
   "cell_type": "code",
   "execution_count": 4,
   "metadata": {},
   "outputs": [
    {
     "name": "stderr",
     "output_type": "stream",
     "text": [
      "<>:3: SyntaxWarning: invalid escape sequence '\\-'\n",
      "<>:3: SyntaxWarning: invalid escape sequence '\\-'\n",
      "C:\\Users\\sokhi\\AppData\\Local\\Temp\\ipykernel_11280\\2375089737.py:3: SyntaxWarning: invalid escape sequence '\\-'\n",
      "  print(f\"-Water: {water} ml\\n-Coffee: {coffee} ml\\n-Milk: {milk} ml\\n-Sugar: {sugar} ml\\\")\\-espesso: {espresso}ml\")\n"
     ]
    }
   ],
   "source": [
    "def report(water, sugar,coffee,milk,espresso):\n",
    "    print(f\"the machine has:\".lower())\n",
    "    print(f\"-Water: {water} ml\\n-Coffee: {coffee} ml\\n-Milk: {milk} ml\\n-Sugar: {sugar} ml\\\")\\-espesso: {espresso}ml\")\n",
    "def menu():\n",
    "    print(\"Available options:\")\n",
    "    print(\"Report(R)\")\n",
    "    print(\"Make a Black cofee(black)\")\n",
    "    print(\"Make a Late(Late)\")\n",
    "    print(\"Exit\")\n",
    "    menu_answer = input(\"choose one of the options\\nhere:\")\n",
    "    if menu_answer == \"r\":\n",
    "        report(water, sugar, coffee, espresso, milk)\n",
    "        return menu()\n",
    "    elif menu_answer == \"black\":\n",
    "        return black_cofee(water, coffee, milk, sugar)\n",
    "    elif menu_answer == \"late\":\n",
    "        return late(water, sugar, coffee, milk, espresso)\n",
    "    elif menu_answer == \"exit\":\n",
    "        print(\"Goodbye!\")\n",
    "        exit()\n",
    "\n",
    "def black_cofee(water,coffee,milk,sugar):\n",
    "    if coffee < 15 or water < 180:\n",
    "        print(\"Not enough resources to make a Black Coffee\")\n",
    "        return menu()\n",
    "    else:\n",
    "        if sugar > 25:\n",
    "            answer = input(\"Do you want to add sugar?\")\n",
    "            if answer.lower() == \"yes\":\n",
    "                sugar -= 25\n",
    "        water -= 180\n",
    "        coffee -= 15\n",
    "        coffee += 15\n",
    "        print(\"Making a Black Coffee...\")\n",
    "        report(water, sugar, coffee, milk, espresso)\n",
    "        return menu()\n",
    "def late(water, sugar, coffee, milk, espresso):\n",
    "    if water < 200 or coffee < 100 or milk < 150 or espresso < 60:\n",
    "        print(\"Not enough resources to make a Late\")\n",
    "        return menu()\n",
    "    else:\n",
    "        if sugar > 25:\n",
    "            answer = input(\"Do you want to add sugar?\")\n",
    "            if answer.lower() == \"yes\":\n",
    "                sugar -= 25\n",
    "        water -= 200\n",
    "        coffee -= 100\n",
    "        milk -= 150\n",
    "        espresso -= 60\n",
    "        print(\"Making a Late...\")\n",
    "        report(water, sugar, coffee, milk, espresso)\n",
    "        return menu()\n",
    "    "
   ]
  },
  {
   "cell_type": "code",
   "execution_count": 5,
   "metadata": {},
   "outputs": [
    {
     "name": "stdout",
     "output_type": "stream",
     "text": [
      "Available options:\n",
      "Report(R)\n",
      "Make a Black cofee(black)\n",
      "Make a Late(Late)\n",
      "Exit\n",
      "Making a Black Coffee...\n",
      "the machine has:\n",
      "-Water: 9820 ml\n",
      "-Coffee: 1000 ml\n",
      "-Milk: 1000 ml\n",
      "-Sugar: 1000 ml\")\\-espesso: 1000ml\n",
      "Available options:\n",
      "Report(R)\n",
      "Make a Black cofee(black)\n",
      "Make a Late(Late)\n",
      "Exit\n",
      "Goodbye!\n"
     ]
    },
    {
     "ename": "",
     "evalue": "",
     "output_type": "error",
     "traceback": [
      "\u001b[1;31mThe Kernel crashed while executing code in the current cell or a previous cell. \n",
      "\u001b[1;31mPlease review the code in the cell(s) to identify a possible cause of the failure. \n",
      "\u001b[1;31mClick <a href='https://aka.ms/vscodeJupyterKernelCrash'>here</a> for more info. \n",
      "\u001b[1;31mView Jupyter <a href='command:jupyter.viewOutput'>log</a> for further details."
     ]
    }
   ],
   "source": [
    "menu()"
   ]
  }
 ],
 "metadata": {
  "kernelspec": {
   "display_name": "base",
   "language": "python",
   "name": "python3"
  },
  "language_info": {
   "codemirror_mode": {
    "name": "ipython",
    "version": 3
   },
   "file_extension": ".py",
   "mimetype": "text/x-python",
   "name": "python",
   "nbconvert_exporter": "python",
   "pygments_lexer": "ipython3",
   "version": "3.12.4"
  }
 },
 "nbformat": 4,
 "nbformat_minor": 2
}
